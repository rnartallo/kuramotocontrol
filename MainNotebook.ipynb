{
 "cells": [
  {
   "cell_type": "code",
   "execution_count": 64,
   "metadata": {},
   "outputs": [
    {
     "data": {
      "text/plain": [
       "<module 'KuramotoFunctionBank' from '/Users/Moncho/Desktop/Year 1/kuramotocontrol/KuramotoFunctionBank.py'>"
      ]
     },
     "execution_count": 64,
     "metadata": {},
     "output_type": "execute_result"
    }
   ],
   "source": [
    "import numpy as np\n",
    "import math as m\n",
    "import random as r\n",
    "import cvxpy as cp\n",
    "from scipy.integrate import odeint\n",
    "import seaborn as sns\n",
    "import KuramotoFunctionBank as KFB\n",
    "import importlib\n",
    "importlib.reload(KFB)"
   ]
  },
  {
   "cell_type": "code",
   "execution_count": 39,
   "metadata": {},
   "outputs": [],
   "source": [
    "#Parameter control center\n",
    "N=7\n",
    "\n",
    "#These are phases differences w.r.t osc 1\n",
    "x_min = np.array([0, m.pi/8, m.pi/8, m.pi/6, m.pi/6, m.pi/3, 2*m.pi/3])\n",
    "\n",
    "#Random adjacency matrix\n",
    "A = np.zeros((N,N))\n",
    "for i in range(0,N-1):\n",
    "    for j in range(i+1,N):\n",
    "        u=r.uniform(0,1)\n",
    "        if u >0.1:\n",
    "            A[i][j]=2\n",
    "A = A + np.transpose(A)\n",
    "\n",
    "#Random natural frequencies\n",
    "w = 2*np.random.rand(N,1)\n",
    "w = w-np.mean(w)\n"
   ]
  },
  {
   "cell_type": "code",
   "execution_count": 109,
   "metadata": {},
   "outputs": [],
   "source": [
    "#Calculate quantities from inital parameters \n",
    "\n",
    "edges = KFB.CalculateEdgeSet(A)\n",
    "x_desired = KFB.CalculatePhaseDifferencesFromMin(x_min,edges)\n",
    "D = KFB.CalculateSinMatrix(edges,x_desired)\n",
    "B = KFB.CalculateIncidenceMatrix(edges,N)\n",
    "B_D = np.matmul(B,D)\n",
    "delta1 = KFB.CalculateDeltaFromAdj(A,edges)"
   ]
  },
  {
   "cell_type": "code",
   "execution_count": 114,
   "metadata": {},
   "outputs": [],
   "source": [
    "# Construct the problem and solve the convex optimisation problem\n",
    "delta = cp.Variable((len(edges),1))\n",
    "beta = cp.Variable((N,1))\n",
    "objective = cp.Minimize(cp.sum_squares(delta-delta1)+ cp.sum_squares(beta-w))\n",
    "constraints = [B_D@delta==beta,delta >=0]\n",
    "prob = cp.Problem(objective, constraints)\n",
    "result = prob.solve()"
   ]
  },
  {
   "cell_type": "code",
   "execution_count": 115,
   "metadata": {},
   "outputs": [],
   "source": []
  },
  {
   "cell_type": "code",
   "execution_count": null,
   "metadata": {},
   "outputs": [],
   "source": []
  },
  {
   "cell_type": "code",
   "execution_count": null,
   "metadata": {},
   "outputs": [],
   "source": []
  }
 ],
 "metadata": {
  "kernelspec": {
   "display_name": "Python 3.7.6 ('base')",
   "language": "python",
   "name": "python3"
  },
  "language_info": {
   "codemirror_mode": {
    "name": "ipython",
    "version": 3
   },
   "file_extension": ".py",
   "mimetype": "text/x-python",
   "name": "python",
   "nbconvert_exporter": "python",
   "pygments_lexer": "ipython3",
   "version": "3.7.6"
  },
  "orig_nbformat": 4,
  "vscode": {
   "interpreter": {
    "hash": "40d3a090f54c6569ab1632332b64b2c03c39dcf918b08424e98f38b5ae0af88f"
   }
  }
 },
 "nbformat": 4,
 "nbformat_minor": 2
}
