{
 "cells": [
  {
   "cell_type": "code",
   "execution_count": 1,
   "metadata": {},
   "outputs": [],
   "source": [
    "import numpy as np\n",
    "import math as m\n",
    "from scipy.integrate import odeint\n",
    "import seaborn as sns\n",
    "from KuramotoFunctionBank import KuramotoModel, SolveKuramotoModel, CalculatePhaseDiffs"
   ]
  },
  {
   "cell_type": "code",
   "execution_count": 2,
   "metadata": {},
   "outputs": [],
   "source": [
    "#Parameter control center\n",
    "\n",
    "x_des = np.array([m.pi/4, m.pi/6])\n",
    "a13 = 0.2\n",
    "a12 = (0.75-a13*np.sin(x_des[0]+x_des[1]))/(np.sin(x_des[0]))\n",
    "a23 = (0.5-a13*np.sin(x_des[0]+x_des[1]))/(np.sin(x_des[1]))\n",
    "A = np.array([[0,a12,a13],[a12,0,a23],[a13,a23,0]])\n",
    "T = 10\n",
    "w = [-0.75,0.25,0.5]\n",
    "N=3\n",
    "theta_0=np.zeros(N)\n",
    "\n",
    "num_points = 100\n"
   ]
  },
  {
   "cell_type": "code",
   "execution_count": 3,
   "metadata": {},
   "outputs": [],
   "source": [
    "# Solve the ODE and decompose the solution into individual components\n",
    "sol,t = SolveKuramotoModel(theta_0,T,N,w,A,num_points)\n",
    "N1 = sol[:,0]; N2 = sol[:,1]; N3 = sol[:,2]"
   ]
  },
  {
   "cell_type": "code",
   "execution_count": 4,
   "metadata": {},
   "outputs": [
    {
     "data": {
      "image/png": "[encoded data removed]",
      "text/plain": [
       "<Figure size 432x288 with 1 Axes>"
      ]
     },
     "metadata": {
      "needs_background": "light"
     },
     "output_type": "display_data"
    }
   ],
   "source": [
    "#Plot trajectories in space\n",
    "ax=sns.lineplot(x=t,y=N1,label = 'Oscillator 1')\n",
    "ax=sns.lineplot(x=t,y=N2,label = 'Oscillator 2')\n",
    "ax=sns.lineplot(x=t,y=N3,label = 'Oscillator 3')"
   ]
  },
  {
   "cell_type": "code",
   "execution_count": 5,
   "metadata": {},
   "outputs": [],
   "source": [
    "x_acheived = np.array(CalculatePhaseDiffs(sol[num_points-1,:]))"
   ]
  },
  {
   "cell_type": "code",
   "execution_count": null,
   "metadata": {},
   "outputs": [],
   "source": []
  },
  {
   "cell_type": "code",
   "execution_count": 6,
   "metadata": {},
   "outputs": [
    {
     "name": "stdout",
     "output_type": "stream",
     "text": [
      "0.10.0\n"
     ]
    }
   ],
   "source": []
  },
  {
   "cell_type": "code",
   "execution_count": null,
   "metadata": {},
   "outputs": [],
   "source": []
  }
 ],
 "metadata": {
  "kernelspec": {
   "display_name": "Python 3.7.6 ('base')",
   "language": "python",
   "name": "python3"
  },
  "language_info": {
   "codemirror_mode": {
    "name": "ipython",
    "version": 3
   },
   "file_extension": ".py",
   "mimetype": "text/x-python",
   "name": "python",
   "nbconvert_exporter": "python",
   "pygments_lexer": "ipython3",
   "version": "3.7.6"
  },
  "orig_nbformat": 4,
  "vscode": {
   "interpreter": {
    "hash": "40d3a090f54c6569ab1632332b64b2c03c39dcf918b08424e98f38b5ae0af88f"
   }
  }
 },
 "nbformat": 4,
 "nbformat_minor": 2
}
